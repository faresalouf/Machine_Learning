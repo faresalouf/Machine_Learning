{
  "cells": [
    {
      "cell_type": "markdown",
      "id": "nervous-wilson",
      "metadata": {
        "id": "nervous-wilson"
      },
      "source": [
        "## Exercise 1: The best KNN classifier\n",
        "\n",
        "Try to build a classifier for the MNIST dataset that achieves over 97% accuracy on the test set. Hint: the `KNeighborsClassifier` works quite well for this task; you need to find good hyperparameters (grid search on `weights` and `n_neighbors` hyperparameters)."
      ]
    },
    {
      "cell_type": "code",
      "execution_count": null,
      "id": "boxed-monitor",
      "metadata": {
        "id": "boxed-monitor"
      },
      "outputs": [],
      "source": [
        "# Load MNIST\n",
        "from sklearn.datasets import fetch_openml\n",
        "mnist = fetch_openml('mnist_784', version = 1, as_frame = False)"
      ]
    },
    {
      "cell_type": "code",
      "execution_count": null,
      "id": "wired-watts",
      "metadata": {
        "id": "wired-watts"
      },
      "outputs": [],
      "source": [
        "X = mnist.data\n",
        "y = mnist.target"
      ]
    },
    {
      "cell_type": "code",
      "execution_count": null,
      "id": "functional-irish",
      "metadata": {
        "colab": {
          "base_uri": "https://localhost:8080/"
        },
        "id": "functional-irish",
        "outputId": "223d00b9-6845-49db-eaf5-1816b7548c73"
      },
      "outputs": [
        {
          "output_type": "execute_result",
          "data": {
            "text/plain": [
              "(784,)"
            ]
          },
          "metadata": {},
          "execution_count": 8
        }
      ],
      "source": [
        "import matplotlib.pyplot as plt\n",
        "\n",
        "# Visually represent a digit\n",
        "digit = X[7]\n",
        "digit.shape"
      ]
    },
    {
      "cell_type": "code",
      "execution_count": null,
      "id": "fifth-astrology",
      "metadata": {
        "colab": {
          "base_uri": "https://localhost:8080/"
        },
        "id": "fifth-astrology",
        "outputId": "aeeb4db9-6044-419c-c0ce-26644321f483"
      },
      "outputs": [
        {
          "output_type": "execute_result",
          "data": {
            "text/plain": [
              "28.0"
            ]
          },
          "metadata": {},
          "execution_count": 9
        }
      ],
      "source": [
        "# Matplotlib needs ideally a square matrix to be able to show the image\n",
        "import numpy as np\n",
        "np.sqrt(784)"
      ]
    },
    {
      "cell_type": "code",
      "execution_count": null,
      "id": "fifty-baptist",
      "metadata": {
        "colab": {
          "base_uri": "https://localhost:8080/",
          "height": 283
        },
        "id": "fifty-baptist",
        "outputId": "ce008e27-c9e9-4ef6-8423-c80dcb78f0ed"
      },
      "outputs": [
        {
          "output_type": "execute_result",
          "data": {
            "text/plain": [
              "<matplotlib.image.AxesImage at 0x7fd5c06e09d0>"
            ]
          },
          "metadata": {},
          "execution_count": 10
        },
        {
          "output_type": "display_data",
          "data": {
            "image/png": "[encoded data removed]",
            "text/plain": [
              "<Figure size 432x288 with 1 Axes>"
            ]
          },
          "metadata": {
            "needs_background": "light"
          }
        }
      ],
      "source": [
        "plt.imshow(digit.reshape(28,28), cmap = 'Purples')"
      ]
    },
    {
      "cell_type": "code",
      "execution_count": null,
      "id": "intensive-suspension",
      "metadata": {
        "id": "intensive-suspension"
      },
      "outputs": [],
      "source": [
        "# Just for fun let's make that into a function\n",
        "\n",
        "def digit_image(number:int):\n",
        "    if number>784:\n",
        "        raise ValueError('The number cannot exceed 784.')\n",
        "    digit = X[number].reshape(28,28)\n",
        "    \n",
        "    \n",
        "    plt.imshow(digit,cmap = 'Purples')\n",
        "    plt.axis('off')\n",
        "    plt.show()\n",
        "        "
      ]
    },
    {
      "cell_type": "code",
      "execution_count": null,
      "id": "committed-lingerie",
      "metadata": {
        "colab": {
          "base_uri": "https://localhost:8080/",
          "height": 248
        },
        "id": "committed-lingerie",
        "outputId": "84fad598-7f44-479e-f83c-2793cd3d8193"
      },
      "outputs": [
        {
          "output_type": "display_data",
          "data": {
            "image/png": "[encoded data removed]",
            "text/plain": [
              "<Figure size 432x288 with 1 Axes>"
            ]
          },
          "metadata": {
            "needs_background": "light"
          }
        }
      ],
      "source": [
        "digit_image(239)"
      ]
    },
    {
      "cell_type": "code",
      "execution_count": null,
      "id": "charged-skiing",
      "metadata": {
        "id": "charged-skiing"
      },
      "outputs": [],
      "source": [
        "# Create training and testing datasets\n",
        "from sklearn.model_selection import train_test_split\n",
        "X_train,X_test,y_train,y_test = train_test_split(X,y,random_state = 42,test_size = 0.4 )"
      ]
    },
    {
      "cell_type": "code",
      "execution_count": null,
      "id": "black-chosen",
      "metadata": {
        "id": "black-chosen",
        "outputId": "3ca50355-bbc4-43c1-cc6f-7f347d139da1"
      },
      "outputs": [
        {
          "name": "stdout",
          "output_type": "stream",
          "text": [
            "Fitting 5 folds for each of 10 candidates, totalling 50 fits\n",
            "[CV 1/5] END .................n_neighbors=3, weights=uniform; total time= 4.9min\n",
            "[CV 2/5] END .................n_neighbors=3, weights=uniform; total time= 4.8min\n",
            "[CV 3/5] END .................n_neighbors=3, weights=uniform; total time= 4.5min\n",
            "[CV 4/5] END .................n_neighbors=3, weights=uniform; total time= 4.5min\n",
            "[CV 5/5] END .................n_neighbors=3, weights=uniform; total time= 4.5min\n",
            "[CV 1/5] END ................n_neighbors=3, weights=distance; total time= 4.8min\n",
            "[CV 2/5] END ................n_neighbors=3, weights=distance; total time= 4.8min\n",
            "[CV 3/5] END ................n_neighbors=3, weights=distance; total time= 4.7min\n",
            "[CV 4/5] END ................n_neighbors=3, weights=distance; total time= 4.7min\n",
            "[CV 5/5] END ................n_neighbors=3, weights=distance; total time= 4.7min\n",
            "[CV 1/5] END .................n_neighbors=4, weights=uniform; total time= 4.8min\n",
            "[CV 2/5] END .................n_neighbors=4, weights=uniform; total time= 4.9min\n",
            "[CV 3/5] END .................n_neighbors=4, weights=uniform; total time= 4.8min\n",
            "[CV 4/5] END .................n_neighbors=4, weights=uniform; total time= 4.8min\n",
            "[CV 5/5] END .................n_neighbors=4, weights=uniform; total time= 4.8min\n",
            "[CV 1/5] END ................n_neighbors=4, weights=distance; total time= 4.6min\n",
            "[CV 2/5] END ................n_neighbors=4, weights=distance; total time= 4.5min\n",
            "[CV 3/5] END ................n_neighbors=4, weights=distance; total time= 4.5min\n",
            "[CV 4/5] END ................n_neighbors=4, weights=distance; total time= 4.9min\n",
            "[CV 5/5] END ................n_neighbors=4, weights=distance; total time= 5.1min\n",
            "[CV 1/5] END .................n_neighbors=5, weights=uniform; total time= 5.3min\n",
            "[CV 2/5] END .................n_neighbors=5, weights=uniform; total time= 5.6min\n",
            "[CV 3/5] END .................n_neighbors=5, weights=uniform; total time= 5.2min\n",
            "[CV 4/5] END .................n_neighbors=5, weights=uniform; total time= 5.0min\n",
            "[CV 5/5] END .................n_neighbors=5, weights=uniform; total time= 5.6min\n",
            "[CV 1/5] END ................n_neighbors=5, weights=distance; total time= 4.9min\n",
            "[CV 2/5] END ................n_neighbors=5, weights=distance; total time= 5.4min\n",
            "[CV 3/5] END ................n_neighbors=5, weights=distance; total time= 5.3min\n",
            "[CV 4/5] END ................n_neighbors=5, weights=distance; total time= 5.1min\n",
            "[CV 5/5] END ................n_neighbors=5, weights=distance; total time= 5.1min\n",
            "[CV 1/5] END .................n_neighbors=6, weights=uniform; total time= 5.5min\n",
            "[CV 2/5] END .................n_neighbors=6, weights=uniform; total time= 5.5min\n",
            "[CV 3/5] END .................n_neighbors=6, weights=uniform; total time= 5.4min\n",
            "[CV 4/5] END .................n_neighbors=6, weights=uniform; total time= 6.2min\n",
            "[CV 5/5] END .................n_neighbors=6, weights=uniform; total time= 5.3min\n",
            "[CV 1/5] END ................n_neighbors=6, weights=distance; total time= 5.2min\n",
            "[CV 2/5] END ................n_neighbors=6, weights=distance; total time= 5.4min\n",
            "[CV 3/5] END ................n_neighbors=6, weights=distance; total time= 5.0min\n",
            "[CV 4/5] END ................n_neighbors=6, weights=distance; total time= 5.5min\n",
            "[CV 5/5] END ................n_neighbors=6, weights=distance; total time= 5.0min\n",
            "[CV 1/5] END .................n_neighbors=7, weights=uniform; total time= 5.0min\n",
            "[CV 2/5] END .................n_neighbors=7, weights=uniform; total time= 5.6min\n",
            "[CV 3/5] END .................n_neighbors=7, weights=uniform; total time= 5.3min\n",
            "[CV 4/5] END .................n_neighbors=7, weights=uniform; total time= 5.3min\n",
            "[CV 5/5] END .................n_neighbors=7, weights=uniform; total time= 4.9min\n",
            "[CV 1/5] END ................n_neighbors=7, weights=distance; total time= 4.9min\n",
            "[CV 2/5] END ................n_neighbors=7, weights=distance; total time= 4.9min\n",
            "[CV 3/5] END ................n_neighbors=7, weights=distance; total time= 4.7min\n",
            "[CV 4/5] END ................n_neighbors=7, weights=distance; total time= 4.7min\n",
            "[CV 5/5] END ................n_neighbors=7, weights=distance; total time= 5.2min\n"
          ]
        },
        {
          "data": {
            "text/plain": [
              "GridSearchCV(cv=5, estimator=KNeighborsClassifier(),\n",
              "             param_grid=[{'n_neighbors': [3, 4, 5, 6, 7],\n",
              "                          'weights': ['uniform', 'distance']}],\n",
              "             verbose=3)"
            ]
          },
          "execution_count": 65,
          "metadata": {},
          "output_type": "execute_result"
        }
      ],
      "source": [
        "# KNN with best parameters\n",
        "from sklearn.neighbors import KNeighborsClassifier\n",
        "from sklearn.model_selection import GridSearchCV\n",
        "\n",
        "param_grid = [{'weights' : ['uniform','distance'],'n_neighbors' : [3,4,5,6,7]}]\n",
        "\n",
        "knn = KNeighborsClassifier()\n",
        "\n",
        "grid_search = GridSearchCV(knn, param_grid, cv = 5, verbose=3)\n",
        "grid_search.fit(X_train,y_train)"
      ]
    },
    {
      "cell_type": "code",
      "execution_count": null,
      "id": "stylish-berry",
      "metadata": {
        "id": "stylish-berry",
        "outputId": "ceae475f-49df-4b43-eac5-3870c2dffe90"
      },
      "outputs": [
        {
          "data": {
            "text/plain": [
              "{'n_neighbors': 4, 'weights': 'distance'}"
            ]
          },
          "execution_count": 66,
          "metadata": {},
          "output_type": "execute_result"
        }
      ],
      "source": [
        "grid_search.best_params_"
      ]
    },
    {
      "cell_type": "code",
      "execution_count": null,
      "id": "determined-learning",
      "metadata": {
        "id": "determined-learning",
        "outputId": "fb42bb36-3c42-4e76-b5aa-d50db7619bac"
      },
      "outputs": [
        {
          "data": {
            "text/plain": [
              "0.9694523809523808"
            ]
          },
          "execution_count": 67,
          "metadata": {},
          "output_type": "execute_result"
        }
      ],
      "source": [
        "grid_search.best_score_"
      ]
    },
    {
      "cell_type": "code",
      "execution_count": null,
      "id": "greenhouse-anchor",
      "metadata": {
        "id": "greenhouse-anchor"
      },
      "outputs": [],
      "source": [
        "from sklearn.metrics import accuracy_score\n",
        "\n",
        "y_pred = grid_search.predict(X_test)\n",
        "accuracy_score(y_test, y_pred)"
      ]
    },
    {
      "cell_type": "markdown",
      "id": "decimal-plain",
      "metadata": {
        "id": "decimal-plain"
      },
      "source": [
        "**I forgot to save the best model, it took 4-5 hours of training/testing, I won't do it again but only train the best model.**"
      ]
    },
    {
      "cell_type": "code",
      "execution_count": null,
      "id": "apart-forge",
      "metadata": {
        "id": "apart-forge"
      },
      "outputs": [],
      "source": [
        "from sklearn.neighbors import KNeighborsClassifier\n",
        "\n",
        "knn = KNeighborsClassifier(n_neighbors=4, weights = 'distance')\n",
        "knn.fit(X_train,y_train)\n",
        "y_pred = knn.predict(X_test)"
      ]
    },
    {
      "cell_type": "code",
      "execution_count": null,
      "id": "yellow-lesbian",
      "metadata": {
        "colab": {
          "base_uri": "https://localhost:8080/"
        },
        "id": "yellow-lesbian",
        "outputId": "01661e10-2287-4b78-c14d-8df6d2e40676"
      },
      "outputs": [
        {
          "output_type": "stream",
          "name": "stdout",
          "text": [
            "The accuracy of this model is 0.9717142857142858 on the test set.\n"
          ]
        }
      ],
      "source": [
        "from sklearn.metrics import accuracy_score\n",
        "print(f'The accuracy of this model is {accuracy_score(y_test,y_pred)} on the test set.')"
      ]
    },
    {
      "cell_type": "markdown",
      "id": "answering-conclusion",
      "metadata": {
        "id": "answering-conclusion"
      },
      "source": [
        "## Exercise 2: Data augmentation"
      ]
    },
    {
      "cell_type": "markdown",
      "id": "superior-toilet",
      "metadata": {
        "id": "superior-toilet"
      },
      "source": [
        "Write a function that can shift an MNIST image in any direction (left,right,up or down) by one pixel. Then, for each image in the training set, create four shifted copies (one per direction) and add them to the training set. Finally, train your best model on this expanded training set and measure its accuracy on the test set. You should obsercve that your model performs even better now ! This technique of artificially growing the training set is called *data augmentations* or *training set expansion*."
      ]
    },
    {
      "cell_type": "code",
      "execution_count": null,
      "id": "secret-skill",
      "metadata": {
        "id": "secret-skill"
      },
      "outputs": [],
      "source": [
        " from scipy.ndimage.interpolation import shift"
      ]
    },
    {
      "cell_type": "code",
      "source": [
        "def shift_image(image,y,x):\n",
        "  image = image.reshape(28,28)\n",
        "  image = shift(image,[y,x],cval = 0)\n",
        "  return image.reshape(-1)"
      ],
      "metadata": {
        "id": "q5Ki1qgnU7rv"
      },
      "id": "q5Ki1qgnU7rv",
      "execution_count": null,
      "outputs": []
    },
    {
      "cell_type": "markdown",
      "source": [
        "The `shift` function allows us to shift an image. First, we need to have an image and not just an array of numbers. This is the reason we start by reshaping our array into a 28 x 28 matrix. Second, the arguments of the `shift` function are 1) along the y axis and 2) along x axis. The first arguments tells us how much DOWN will the picture go. 2 means 2 points down, -2 means 2 points up. The second argument tells us how much to the RIGHT will the image go. Finally, we need our final outcome to be an array of numbers and not an image, therefore we will reshape back our data. `reshape` with (-1) as an argument tells the function to remove 1 dimension. Because it is was a 2D array, now it became a 1D array."
      ],
      "metadata": {
        "id": "x5qgfQ9RgxcW"
      },
      "id": "x5qgfQ9RgxcW"
    },
    {
      "cell_type": "code",
      "source": [
        ""
      ],
      "metadata": {
        "id": "Tlh9w5a4hslL"
      },
      "id": "Tlh9w5a4hslL",
      "execution_count": null,
      "outputs": []
    }
  ],
  "metadata": {
    "kernelspec": {
      "display_name": "Python 3",
      "name": "python3"
    },
    "language_info": {
      "name": "python"
    },
    "colab": {
      "name": "Copy of 2_Classification_Exercise_1.ipynb",
      "provenance": []
    }
  },
  "nbformat": 4,
  "nbformat_minor": 5
}