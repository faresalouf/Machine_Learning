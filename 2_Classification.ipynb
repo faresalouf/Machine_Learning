{
 "cells": [
  {
   "cell_type": "markdown",
   "id": "protecting-marine",
   "metadata": {},
   "source": [
    "## 1 - Classification in brief"
   ]
  },
  {
   "cell_type": "markdown",
   "id": "rental-anthony",
   "metadata": {},
   "source": [
    "The most common supervised learning tasks are Regression (predicting values i.e quantitative variables) and Classification (predicting classes i.e factors, qualitative variables). In the last notebook, we used Regression models (`LinearRegression`, `DecisionTree`, `RandomForest`). Now we will work on a Classification project."
   ]
  },
  {
   "cell_type": "markdown",
   "id": "authorized-thickness",
   "metadata": {},
   "source": [
    "We will use the MNIST dataset which is a set of 70 000 small images of digits handwritten by high school students and employees of the US Census Bureau. Each image is labeled with the digit it represents. Our dependant variable is a qualitative variable with 9 levels --> 1,2,3,4,5,6,7,8,9. The variable may seem quantitative, but it is not. In fact try and imagine these numbers as not really numbers but just \"names\" or \"labels\". We could have done the same task but instead of the numbers as labels, we used \"one\", \"two\", \"three\",\"four\"...  \n",
    "<br/>\n",
    "So our y/dependant variable is the labels. Our X variables are the pcitures of the handwritten image transformed into vectors. The model we are training will take as input a vector of numbers (that represent the handwritten image) and try to guess what number is written in the image."
   ]
  },
  {
   "cell_type": "markdown",
   "id": "passive-quilt",
   "metadata": {},
   "source": [
    "### Code to download the MNIST  dataset"
   ]
  },
  {
   "cell_type": "code",
   "execution_count": 1,
   "id": "static-processing",
   "metadata": {},
   "outputs": [],
   "source": [
    "from sklearn.datasets import fetch_openml\n",
    "mnist = fetch_openml('mnist_784', version = 1)"
   ]
  },
  {
   "cell_type": "code",
   "execution_count": 2,
   "id": "statewide-exclusion",
   "metadata": {},
   "outputs": [
    {
     "data": {
      "text/plain": [
       "dict_keys(['data', 'target', 'frame', 'categories', 'feature_names', 'target_names', 'DESCR', 'details', 'url'])"
      ]
     },
     "execution_count": 2,
     "metadata": {},
     "output_type": "execute_result"
    }
   ],
   "source": [
    "# The variable we created \"mnist\" is a dictionary that has key-values pair; \n",
    "mnist.keys() # .keys() gives the keys of dictionaries"
   ]
  },
  {
   "cell_type": "markdown",
   "id": "removable-tribute",
   "metadata": {},
   "source": [
    "The datasets that we generally load from sklearn have all the same structure (nearly):\n",
    "- `data`: A matrix that contains n-columns and m-rows. The columns are the features(variables) and the rows the instances(observations)\n",
    "- `DESCR`: Describes the data.\n",
    "- `target`: Contains the labels(dependant variable)"
   ]
  },
  {
   "cell_type": "markdown",
   "id": "unable-conservation",
   "metadata": {},
   "source": [
    "### Create our X and y arrays"
   ]
  },
  {
   "cell_type": "code",
   "execution_count": 3,
   "id": "worldwide-lunch",
   "metadata": {},
   "outputs": [],
   "source": [
    "X, y = mnist['data'], mnist['target']"
   ]
  },
  {
   "cell_type": "code",
   "execution_count": 4,
   "id": "fallen-controversy",
   "metadata": {},
   "outputs": [
    {
     "data": {
      "text/plain": [
       "(70000, 784)"
      ]
     },
     "execution_count": 4,
     "metadata": {},
     "output_type": "execute_result"
    }
   ],
   "source": [
    "X.shape # We have 784 features and 70 000 instances. Every handwritten drawing is converted into a vector of 784 numbers.\n",
    "\n",
    "# In fact, each image is 28 x 28 pixels which is equivalent de 784 features, each one representing 1 pixel's intensity\n",
    "# from 0(white) to 255(black)"
   ]
  },
  {
   "cell_type": "code",
   "execution_count": 5,
   "id": "conventional-float",
   "metadata": {},
   "outputs": [
    {
     "data": {
      "text/plain": [
       "(70000,)"
      ]
     },
     "execution_count": 5,
     "metadata": {},
     "output_type": "execute_result"
    }
   ],
   "source": [
    "y.shape"
   ]
  },
  {
   "cell_type": "markdown",
   "id": "sunrise-return",
   "metadata": {},
   "source": [
    "#### Visualize the handwritten numbers"
   ]
  },
  {
   "cell_type": "markdown",
   "id": "persistent-sperm",
   "metadata": {},
   "source": [
    "In order to visualize the numbers, we can represent in a graph the 784 data points and convert them to colours with matplotlib's `imshow` function."
   ]
  },
  {
   "cell_type": "code",
   "execution_count": 6,
   "id": "regulated-silly",
   "metadata": {},
   "outputs": [],
   "source": [
    "import numpy as np\n",
    "import matplotlib.pyplot as plt"
   ]
  },
  {
   "cell_type": "code",
   "execution_count": 7,
   "id": "ranking-gospel",
   "metadata": {},
   "outputs": [
    {
     "name": "stdout",
     "output_type": "stream",
     "text": [
      "The label of the first drawing is 5.\n"
     ]
    }
   ],
   "source": [
    "X = np.array(X) # Transform the pandas data frame into a numpy array to visualize\n",
    "y = np.array(y)\n",
    "\n",
    "print(f'The label of the first drawing is {y[0]}.') # What is the label of the drawing we will look at in a moment ?\n",
    "\n",
    "some_digit = X[0] # we are taking all the features of the observation number 1 (1 is 0 in python)\n",
    "\n",
    "# iloc is a pandas function that allow to localize using the index.\n",
    "\n",
    "some_digit_image = some_digit.reshape(28,28) # X[0] is an array, vector of numbers; the real image is a 28 x 28 matrix; so\n",
    "\n",
    "# we will reshape the vector into the matrix"
   ]
  },
  {
   "cell_type": "code",
   "execution_count": 8,
   "id": "designing-flour",
   "metadata": {},
   "outputs": [
    {
     "data": {
      "image/png": "[encoded data removed]",
      "text/plain": [
       "<Figure size 432x288 with 1 Axes>"
      ]
     },
     "metadata": {
      "needs_background": "light"
     },
     "output_type": "display_data"
    }
   ],
   "source": [
    "plt.imshow(some_digit_image, cmap = 'binary') # cmap means colour map --> colour map binary is black and white\n",
    "plt.axis('off') # don't show the axis\n",
    "plt.show()"
   ]
  },
  {
   "cell_type": "markdown",
   "id": "listed-bookmark",
   "metadata": {},
   "source": [
    "We can see the power of python for visualization. With simple line of codes we could see a whole image. Now we know that the observation number 1 (0 in python) represents number 5. The question is now, how to create a machine learning model that will read this array of 784 numbers and decide that these number represent indeed a number 5. Espacially when we consider this is a handwritten number, meaning that there will be variations within the same number when written by different people."
   ]
  },
  {
   "cell_type": "markdown",
   "id": "greenhouse-clark",
   "metadata": {},
   "source": [
    "#### Convert the label from string to number"
   ]
  },
  {
   "cell_type": "markdown",
   "id": "assured-briefs",
   "metadata": {},
   "source": [
    "The label column (y) is made of strings. Most ML algorithms love numbers, so let's convert the labels to integers."
   ]
  },
  {
   "cell_type": "code",
   "execution_count": 9,
   "id": "proprietary-release",
   "metadata": {},
   "outputs": [
    {
     "data": {
      "text/plain": [
       "array(['5', '0', '4', ..., '4', '5', '6'], dtype=object)"
      ]
     },
     "execution_count": 9,
     "metadata": {},
     "output_type": "execute_result"
    }
   ],
   "source": [
    "y # we can see that the elements of the array are strings"
   ]
  },
  {
   "cell_type": "code",
   "execution_count": 10,
   "id": "apparent-kuwait",
   "metadata": {},
   "outputs": [
    {
     "data": {
      "text/plain": [
       "array([5, 0, 4, ..., 4, 5, 6], dtype=uint8)"
      ]
     },
     "execution_count": 10,
     "metadata": {},
     "output_type": "execute_result"
    }
   ],
   "source": [
    "y = y.astype(np.uint8) # convert the type from object to uint8 (integers)\n",
    "y"
   ]
  },
  {
   "cell_type": "markdown",
   "id": "sapphire-jumping",
   "metadata": {},
   "source": [
    "#### An example of the dataset (and itscomplexity)"
   ]
  },
  {
   "cell_type": "markdown",
   "id": "tender-grammar",
   "metadata": {},
   "source": [
    "<img src=\"Plot-of-a-Subset-of-Images-from-the-MNIST-Dataset.png\" width=\"600\"/>"
   ]
  },
  {
   "cell_type": "markdown",
   "id": "continuous-thirty",
   "metadata": {},
   "source": [
    "To conclude this first part of the notebook, classification is really a way of taking input (ex: images of handwritten digits) and **classifying** them into categories (ex: category 1: '1', category 2: '5' ...)"
   ]
  },
  {
   "cell_type": "markdown",
   "id": "current-owner",
   "metadata": {},
   "source": [
    "## 2- Training ML models"
   ]
  },
  {
   "cell_type": "markdown",
   "id": "identified-plasma",
   "metadata": {},
   "source": [
    "### Creating a test and training"
   ]
  },
  {
   "cell_type": "markdown",
   "id": "given-terrace",
   "metadata": {},
   "source": [
    "Of course before any ML project we first need to divide our data in 2 parts: training and testing."
   ]
  },
  {
   "cell_type": "markdown",
   "id": "worldwide-queens",
   "metadata": {},
   "source": [
    "We are lucky because the MNIST dataset is already splitted for us in training and testing sets. The first 60 000 images are for training and the last 10 000 for testing."
   ]
  },
  {
   "cell_type": "code",
   "execution_count": 11,
   "id": "expressed-titanium",
   "metadata": {},
   "outputs": [],
   "source": [
    "X_train,X_test,y_train,y_test = X[:60000],X[60000:],y[:60000],y[60000:]"
   ]
  },
  {
   "cell_type": "markdown",
   "id": "invisible-diversity",
   "metadata": {},
   "source": [
    "### Training a Binary Classifier"
   ]
  },
  {
   "cell_type": "markdown",
   "id": "appreciated-subcommittee",
   "metadata": {},
   "source": [
    "Binary Classifiers are classifiers that predict only 2 groups; you are either 1 or 0.  \n",
    "<br/>\n",
    "An example of that would be to train a classifier that will only detect the number 5: the \"5-detector\" classifier."
   ]
  },
  {
   "cell_type": "code",
   "execution_count": 12,
   "id": "undefined-array",
   "metadata": {},
   "outputs": [],
   "source": [
    "# Let's create the target vectors\n",
    "y_train_5 = (y_train == 5) # We will have Tue for all 5 and False if not a 5.\n",
    "y_test_5 = (y_test == 5)\n",
    "\n",
    "# A good practice is always to put these conditional statements between parentheses."
   ]
  },
  {
   "cell_type": "markdown",
   "id": "closed-recipe",
   "metadata": {},
   "source": [
    "#### Stochastic Gradient Descent (SGD-Classifier)"
   ]
  },
  {
   "cell_type": "markdown",
   "id": "usual-grove",
   "metadata": {},
   "source": [
    "We will pick `SGDClassifier` to start with. This classifier has the advantage of being capable of handling very large datasets efficiently. This is in part because SGD deals with training instances independently, one at a time (which also makes SGD well suited for online learning)."
   ]
  },
  {
   "cell_type": "code",
   "execution_count": 13,
   "id": "labeled-wheat",
   "metadata": {},
   "outputs": [],
   "source": [
    "from sklearn.linear_model import SGDClassifier"
   ]
  },
  {
   "cell_type": "code",
   "execution_count": 14,
   "id": "employed-puzzle",
   "metadata": {},
   "outputs": [
    {
     "data": {
      "text/plain": [
       "SGDClassifier(random_state=42)"
      ]
     },
     "execution_count": 14,
     "metadata": {},
     "output_type": "execute_result"
    }
   ],
   "source": [
    "sgd_clf = SGDClassifier(max_iter=1000, tol=1e-3, random_state=42) # random_state is just so every time we run the notebook we get the same results\n",
    "sgd_clf.fit(X_train,y_train_5) "
   ]
  },
  {
   "cell_type": "markdown",
   "id": "executed-intranet",
   "metadata": {},
   "source": [
    "**NB**: `SGDClassifier`relies on randomness during training $\\rightarrow$; hence the name Stochastic; stochasticity being the lacking of any predictable order or plan. This is why we used random_state here. "
   ]
  },
  {
   "cell_type": "code",
   "execution_count": 15,
   "id": "living-pressure",
   "metadata": {},
   "outputs": [
    {
     "data": {
      "text/plain": [
       "array([ True])"
      ]
     },
     "execution_count": 15,
     "metadata": {},
     "output_type": "execute_result"
    }
   ],
   "source": [
    "# Now we can use the classifier to detect the number 5.\n",
    "sgd_clf.predict([some_digit]) # Remember that some_digit is X[0] that we say is number 5. Let's see if the classifier\n",
    "# will correctly classify it."
   ]
  },
  {
   "cell_type": "markdown",
   "id": "radical-porcelain",
   "metadata": {},
   "source": [
    "Hurrah ! the classifier correctly classified our handwritten image."
   ]
  },
  {
   "cell_type": "markdown",
   "id": "brave-costume",
   "metadata": {},
   "source": [
    "## 3- Performance measure of the model"
   ]
  },
  {
   "cell_type": "markdown",
   "id": "polished-india",
   "metadata": {},
   "source": [
    "Now that we have a model, let's measure its performance with cross-valdiation."
   ]
  },
  {
   "cell_type": "markdown",
   "id": "aquatic-spencer",
   "metadata": {},
   "source": [
    "In the previous notebook we saw how to use `cross_val_score` that is the very direct and easy way to implement cross validation. Let's try it with 3 folds. 3 folds means dividing the training set in 3 parts and then trying the model 3 times; training it on 2 folds and testing on the 3rd validation fold by changing after each iteration the validation fold; so that all folds are used 1 times as a validation fold."
   ]
  },
  {
   "cell_type": "code",
   "execution_count": 16,
   "id": "adequate-lingerie",
   "metadata": {},
   "outputs": [
    {
     "data": {
      "text/plain": [
       "array([0.95035, 0.96035, 0.9604 ])"
      ]
     },
     "execution_count": 16,
     "metadata": {},
     "output_type": "execute_result"
    }
   ],
   "source": [
    "from sklearn.model_selection import cross_val_score\n",
    "cross_val_score(sgd_clf, X_train, y_train_5, cv = 3, scoring = 'accuracy')"
   ]
  },
  {
   "cell_type": "markdown",
   "id": "resistant-thing",
   "metadata": {},
   "source": [
    "What a beautiful score ! Above 95% of correct answers."
   ]
  },
  {
   "cell_type": "markdown",
   "id": "disabled-japanese",
   "metadata": {},
   "source": [
    "If it is too good to be true...IT IS TOO GOOD TO BE TRUE.  \n",
    "<br/>\n",
    "Look at that, we will create a very dumb classifier that will just **class every image as not being 5**. "
   ]
  },
  {
   "cell_type": "code",
   "execution_count": 17,
   "id": "armed-functionality",
   "metadata": {},
   "outputs": [],
   "source": [
    "from sklearn.base import BaseEstimator\n",
    "\n",
    "class Never5Classifier(BaseEstimator):\n",
    "    def fit(self, X, y = None):\n",
    "        return self\n",
    "    def predict(self,X):\n",
    "        return np.zeros((len(X),1), dtype = bool) # Every time the classifier will say FALSE --> not a 5"
   ]
  },
  {
   "cell_type": "code",
   "execution_count": 18,
   "id": "sorted-barcelona",
   "metadata": {},
   "outputs": [
    {
     "data": {
      "text/plain": [
       "array([0.91125, 0.90855, 0.90915])"
      ]
     },
     "execution_count": 18,
     "metadata": {},
     "output_type": "execute_result"
    }
   ],
   "source": [
    "never_5_clf = Never5Classifier()\n",
    "cross_val_score(never_5_clf, X_train, y_train_5, cv = 3, scoring = 'accuracy')"
   ]
  },
  {
   "cell_type": "markdown",
   "id": "victorian-classic",
   "metadata": {},
   "source": [
    "Wait.. Wuut ??  \n",
    "The super dumb classifier that always says not 5 has a 90-91% accuracy. How come ?  \n",
    "<br/>\n",
    "Well, in the original dataset we have 9 options (1 to 9). The number of 5s is around 10-11%. Therefore a classifier that only detects 5, if it says not 5 every time,  will only be mistaken around 10% of the trials and the accuracy will be at 90%."
   ]
  },
  {
   "cell_type": "markdown",
   "id": "opening-communications",
   "metadata": {},
   "source": [
    "This is an important lesson; it shows that when we deal with skewed data sets (meaning some classes are more frequent then others; like in our case where 90% were False and 10% True), the **accuracy** is not a good performance measure."
   ]
  },
  {
   "cell_type": "markdown",
   "id": "referenced-format",
   "metadata": {},
   "source": [
    "#### Advanced cross valdiation"
   ]
  },
  {
   "cell_type": "markdown",
   "id": "collect-contractor",
   "metadata": {},
   "source": [
    "In the previous example we used the very direct and easy `cross_val_score`. However, sometimes we need more control over the cross validation. In these cases, we can adapt cross_val_score to fit our needs."
   ]
  },
  {
   "cell_type": "markdown",
   "id": "considerable-minnesota",
   "metadata": {},
   "source": [
    "By default cross_val_score uses `StratifiedKFold`. Other cross validations exist namely `KFold` , `LeaveOneOut`, `ShuffleSplit`, `GroupKFold`."
   ]
  },
  {
   "cell_type": "markdown",
   "id": "placed-conditioning",
   "metadata": {},
   "source": [
    "The idea would be to create a variable called **cv** and then input it in `cross_val_score`."
   ]
  },
  {
   "cell_type": "code",
   "execution_count": 19,
   "id": "fuzzy-morocco",
   "metadata": {},
   "outputs": [
    {
     "data": {
      "text/plain": [
       "array([0.95316667, 0.96283333, 0.95116667, 0.96691667, 0.96291667])"
      ]
     },
     "execution_count": 19,
     "metadata": {},
     "output_type": "execute_result"
    }
   ],
   "source": [
    "from sklearn.model_selection import KFold, LeaveOneOut, ShuffleSplit, GroupKFold\n",
    "\n",
    "cv = KFold(5)\n",
    "cross_val_score(sgd_clf,X_train,y_train_5,cv=cv)"
   ]
  },
  {
   "cell_type": "markdown",
   "id": "pressed-evans",
   "metadata": {},
   "source": [
    "We won't go into details here, but we just wanted to expose the method so you can use it in your project. You can research these cross-val methods and implement them accordingly if and when needed."
   ]
  },
  {
   "cell_type": "markdown",
   "id": "aggregate-niger",
   "metadata": {},
   "source": [
    "### Confusion matrix"
   ]
  },
  {
   "cell_type": "markdown",
   "id": "wanted-smart",
   "metadata": {},
   "source": [
    "The confusion matrix is very useful and it tells us how many of \"A\" were classified as \"A\" and how many as \"B\". Same for \"B\".\n",
    "<br/>\n",
    "This is a much better way to evaluate the performance of a classifier."
   ]
  },
  {
   "cell_type": "markdown",
   "id": "altered-destination",
   "metadata": {},
   "source": [
    "To compute the confusion matrix we first need to have a set of predictions so that they can be compared to the actual targets. We could predict on the test set; but remember, ideally we want to keep the test set for the very end."
   ]
  },
  {
   "cell_type": "code",
   "execution_count": 20,
   "id": "unauthorized-midnight",
   "metadata": {},
   "outputs": [],
   "source": [
    "from sklearn.model_selection import cross_val_predict"
   ]
  },
  {
   "cell_type": "code",
   "execution_count": 21,
   "id": "possible-citation",
   "metadata": {},
   "outputs": [],
   "source": [
    "y_train_pred = cross_val_predict(sgd_clf, X_train, y_train_5, cv=3)\n",
    "\n",
    "## This function will perform cross validation as before but return the predicted values on the validation sets.\n",
    "## These are \"clean\" predictions because model never saw or was trained on the validation sets. \n",
    "## If we put together all the predictions made on the validation sets, we get y_pred for all our training data;\n",
    "##### because every fold (subset) will become for one iteration a validation set."
   ]
  },
  {
   "cell_type": "code",
   "execution_count": 22,
   "id": "located-soundtrack",
   "metadata": {},
   "outputs": [
    {
     "data": {
      "text/plain": [
       "array([[53892,   687],\n",
       "       [ 1891,  3530]], dtype=int64)"
      ]
     },
     "execution_count": 22,
     "metadata": {},
     "output_type": "execute_result"
    }
   ],
   "source": [
    "## Confusion matrix\n",
    "from sklearn.metrics import confusion_matrix\n",
    "confusion_matrix(y_train_5,y_train_pred)"
   ]
  },
  {
   "cell_type": "markdown",
   "id": "amino-syracuse",
   "metadata": {},
   "source": [
    "Each row in the confusion matrix represent an actual class, while each column represent a predicted class.  \n",
    "<br/>\n",
    "The first row of this matrix considers non-5 images (False class) $\\rightarrow$ 53892 of them were correctly classified (**True Negatives**) and 687 wrong (**False Positives**).  \n",
    "<br/>\n",
    "The second row considers the yes-5 images (True class) $\\rightarrow$ 1891 were falsely classified (**False Negatives**) and 3530 were correct (**True Positives**)."
   ]
  },
  {
   "cell_type": "markdown",
   "id": "convinced-jungle",
   "metadata": {},
   "source": [
    "**NB**: A perfect prediction would make a confusion matrix with only True Positives and True Negatives. It would have non zeros only on the main diagonal."
   ]
  },
  {
   "cell_type": "markdown",
   "id": "molecular-course",
   "metadata": {},
   "source": [
    "#### Accuracy of the positive predictions (Precision)"
   ]
  },
  {
   "cell_type": "markdown",
   "id": "armed-saturn",
   "metadata": {},
   "source": [
    "A measure based on the confusion matrix is the accuracy of the positive predictions called **percision** $\\rightarrow$ positive detected / every positive classification"
   ]
  },
  {
   "cell_type": "markdown",
   "id": "postal-enzyme",
   "metadata": {},
   "source": [
    "precision = $\\frac {TP}{TP + FP}$"
   ]
  },
  {
   "cell_type": "markdown",
   "id": "reasonable-grave",
   "metadata": {},
   "source": [
    "#### True positive rate (Recall)"
   ]
  },
  {
   "cell_type": "markdown",
   "id": "unable-initial",
   "metadata": {},
   "source": [
    "Precision is usually used with the measure of **sensitivity** or **true positive rate** $\\rightarrow$ this is the ratio of positive instances that are correctly detected by the classifier $\\rightarrow$ positive detected / positive total."
   ]
  },
  {
   "cell_type": "markdown",
   "id": "african-picture",
   "metadata": {},
   "source": [
    "sensitivity = $\\frac{TP}{TP+FN}$"
   ]
  },
  {
   "cell_type": "code",
   "execution_count": 23,
   "id": "spatial-sussex",
   "metadata": {},
   "outputs": [
    {
     "data": {
      "text/plain": [
       "0.8370879772350012"
      ]
     },
     "execution_count": 23,
     "metadata": {},
     "output_type": "execute_result"
    }
   ],
   "source": [
    "# Precision and Recall (also called Sensitivity)\n",
    "\n",
    "from sklearn.metrics import precision_score, recall_score\n",
    "precision_score(y_train_5,y_train_pred)"
   ]
  },
  {
   "cell_type": "code",
   "execution_count": 24,
   "id": "front-cambridge",
   "metadata": {},
   "outputs": [
    {
     "data": {
      "text/plain": [
       "0.6511713705958311"
      ]
     },
     "execution_count": 24,
     "metadata": {},
     "output_type": "execute_result"
    }
   ],
   "source": [
    "recall_score(y_train_5,y_train_pred)"
   ]
  },
  {
   "cell_type": "markdown",
   "id": "careful-collect",
   "metadata": {},
   "source": [
    "Now our 5-detector does not look as good as with the 0.96 accuracy !"
   ]
  },
  {
   "cell_type": "markdown",
   "id": "exposed-surgeon",
   "metadata": {},
   "source": [
    "**Interpretation of scores**:   \n",
    "- When the model claims the image is a 5, it is correct 84% of the time.  \n",
    "- The model detects only 65% of the 5."
   ]
  },
  {
   "cell_type": "markdown",
   "id": "signal-lighter",
   "metadata": {},
   "source": [
    "It is convenient to combine the precision and recall in one metric called the $F_1$ score. In particular if we need a simple way to compare 2 classification models."
   ]
  },
  {
   "cell_type": "markdown",
   "id": "requested-interface",
   "metadata": {},
   "source": [
    "This score is the *harmonic mean* of precision and recall. The regular mean treats all values equally, the harmonic mean gives more weight to low values. As a result, a classifier will only get a high $F_1$ score if both recall and precision are high."
   ]
  },
  {
   "cell_type": "markdown",
   "id": "dental-jenny",
   "metadata": {},
   "source": [
    "F1 = $\\frac{2}{\\frac{1}{precision} + \\frac{1}{recall}}$"
   ]
  },
  {
   "cell_type": "code",
   "execution_count": 25,
   "id": "limited-hawaiian",
   "metadata": {},
   "outputs": [
    {
     "data": {
      "text/plain": [
       "0.7325171197343846"
      ]
     },
     "execution_count": 25,
     "metadata": {},
     "output_type": "execute_result"
    }
   ],
   "source": [
    "from sklearn.metrics import f1_score\n",
    "f1_score(y_train_5,y_train_pred)"
   ]
  },
  {
   "cell_type": "markdown",
   "id": "ranging-journalism",
   "metadata": {},
   "source": [
    "This score favors classifiers that have similar precision and recall. This is not always what we want: in some contexts we mostly care about precision and in others about recall.  \n",
    "<br/>\n",
    "We can't have it both ways, increasing precision reduces recall and vice versa.  \n",
    "<br/>\n",
    "**precision**: When the model claims its positive, it is correct x% of the time.  \n",
    "**recall**: The model detects x% of the positive.  \n",
    "<br/>\n",
    "So we can augment the recall by labeling more observations as positive. It will probably augment the detection of positives but it will reduce the % of correct positives. It will label more of the negatives as positives."
   ]
  },
  {
   "cell_type": "markdown",
   "id": "changed-frame",
   "metadata": {},
   "source": [
    "### Precision/Recall trade-off"
   ]
  },
  {
   "cell_type": "markdown",
   "id": "10f7ea73",
   "metadata": {},
   "source": [
    "Precision and recall are inversely related. Lowering recall will increase precision and lowering precision will increase recall.  \n",
    "Most classification models (like SGDClassifier) will choose a certain threshold value. They will then assign to each instance a value. If the value is lower than the threshold the instance will be classified in one group, and if higher in the other.  \n",
    "<br/>\n",
    "Therefore we can change precision and recall by changing the threshold value."
   ]
  },
  {
   "cell_type": "markdown",
   "id": "ac8e23b1",
   "metadata": {},
   "source": [
    "#### Changing the threshold"
   ]
  },
  {
   "cell_type": "markdown",
   "id": "0eda1ab7",
   "metadata": {},
   "source": [
    "Scikit-learn does not let us change the threshold directly, but it give us access to the decision scores that are used to make predictions. All we need to do is call the `decision_function()` method instead of `predict()` which returns a score for each instance, and then we can use any threshold we want to make predictions based on those scores."
   ]
  },
  {
   "cell_type": "code",
   "execution_count": 26,
   "id": "50c248ce",
   "metadata": {},
   "outputs": [
    {
     "data": {
      "text/plain": [
       "array([2164.22030239])"
      ]
     },
     "execution_count": 26,
     "metadata": {},
     "output_type": "execute_result"
    }
   ],
   "source": [
    "y_scores = sgd_clf.decision_function([some_digit])\n",
    "y_scores"
   ]
  },
  {
   "cell_type": "code",
   "execution_count": 27,
   "id": "312069a3",
   "metadata": {},
   "outputs": [
    {
     "data": {
      "text/plain": [
       "array([ True])"
      ]
     },
     "execution_count": 27,
     "metadata": {},
     "output_type": "execute_result"
    }
   ],
   "source": [
    "threshold = 0 # Specify the threshold\n",
    "y_some_digit_pred = (y_scores>threshold)\n",
    "y_some_digit_pred"
   ]
  },
  {
   "cell_type": "markdown",
   "id": "aca40da3",
   "metadata": {},
   "source": [
    "The SGDClassifier uses a threshold equal to 0, so the previous code returns the same result as the `predict()` method. We can do the same with another threshold."
   ]
  },
  {
   "cell_type": "markdown",
   "id": "111b3d31",
   "metadata": {},
   "source": [
    "Raising the threshold will decrease the recall. The image we have just classified is a 5 and it was classified correctly. By raising the threshold we can see how this same image will be classified incorrectly.  \n",
    "<br/>\n",
    "**raising threshold $\\rightarrow$ the model even though some images are in reality 5, will not detect them $\\rightarrow$ reduce recall**  \n",
    "<br/>\n",
    "**raising threshold $\\rightarrow$ when the model will predict 5, it will make less mistakes $\\rightarrow$ increase precision**"
   ]
  },
  {
   "cell_type": "code",
   "execution_count": 28,
   "id": "f4adfcb5",
   "metadata": {},
   "outputs": [
    {
     "data": {
      "text/plain": [
       "array([False])"
      ]
     },
     "execution_count": 28,
     "metadata": {},
     "output_type": "execute_result"
    }
   ],
   "source": [
    "# Increase the threshold\n",
    "threshold = 8000 # Specify the threshold\n",
    "y_some_digit_pred = (y_scores>threshold)\n",
    "y_some_digit_pred"
   ]
  },
  {
   "cell_type": "markdown",
   "id": "8d6c9463",
   "metadata": {},
   "source": [
    "How to decide which threshold to use? First we can use `cross_val_predict()` function to get the scores of all instances in the training set but this time specify that we want to return decision scores instead of predictions."
   ]
  },
  {
   "cell_type": "code",
   "execution_count": 29,
   "id": "07bfa36b",
   "metadata": {},
   "outputs": [],
   "source": [
    "y_scores = cross_val_predict(sgd_clf, X_train, y_train_5, cv = 3, method = 'decision_function')"
   ]
  },
  {
   "cell_type": "markdown",
   "id": "aerial-maple",
   "metadata": {},
   "source": [
    "Now that we have these scores we can use the `precision_recall_curve()` function to compute precision and recall for all possible thresholds."
   ]
  },
  {
   "cell_type": "code",
   "execution_count": 30,
   "id": "later-endorsement",
   "metadata": {},
   "outputs": [],
   "source": [
    "from sklearn.metrics import precision_recall_curve\n",
    "precisions,recalls,thresholds = precision_recall_curve(y_train_5,y_scores)"
   ]
  },
  {
   "cell_type": "code",
   "execution_count": 31,
   "id": "protective-horror",
   "metadata": {},
   "outputs": [
    {
     "data": {
      "image/png": "[encoded data removed]",
      "text/plain": [
       "<Figure size 576x288 with 1 Axes>"
      ]
     },
     "metadata": {
      "needs_background": "light"
     },
     "output_type": "display_data"
    }
   ],
   "source": [
    "# Finally let's plot the precision and recall as functions of the threshold value\n",
    "\n",
    "def plot_precision_recall_vs_threshold(precisions,recalls,thresholds):\n",
    "    plt.plot(thresholds,precisions[:-1],'b--', label = 'Precision', linewidth = 2) #[:-1] because thresholds are 1 value shorter\n",
    "    plt.plot(thresholds,recalls[:-1],'g-', label = 'Recall', linewidth = 2)\n",
    "    plt.legend(loc = \"center right\", fontsize = 16)\n",
    "    plt.grid()\n",
    "    plt.axis([-50000,50000,0,1]) # x-axis limit, then y-axis limit\n",
    "\n",
    "    \n",
    "# To precisely select a threshold.\n",
    "## Suppose we want to aim for 90% precision.\n",
    "\n",
    "threshold_90_precision = thresholds[np.argmax(precisions >= 0.90)] # np.argmax gives the first index of the maximum value\n",
    "# in this case the values of precisions >= .90 are True and False. So np.argmax will give the index of the first True value.\n",
    "# see the cell below for an example of the use of argmax.\n",
    "\n",
    "# What is the recall of a 90% precision ?\n",
    "recall_90_precision = recalls[np.argmax(precisions >= 0.90)]\n",
    "    \n",
    "    \n",
    "# Plot\n",
    "plt.figure(figsize=(8,4))\n",
    "plot_precision_recall_vs_threshold(precisions,recalls,thresholds) # thresholds is the X axis\n",
    "\n",
    "# Plot precision and threshold\n",
    "plt.plot([threshold_90_precision, threshold_90_precision], [0,0.9],'r:') \n",
    "plt.plot([-50000,threshold_90_precision],[0.9,0.9],'r:')\n",
    "plt.plot(threshold_90_precision,0.9,'ro')\n",
    "\n",
    "# Plot recall and threshold\n",
    "plt.plot([threshold_90_precision, threshold_90_precision],[0, recall_90_precision],'r:')\n",
    "plt.plot([-50000,threshold_90_precision],[recall_90_precision,recall_90_precision],'r:')\n",
    "plt.plot([threshold_90_precision],[recall_90_precision],'ro')\n",
    "\n",
    "plt.show()\n"
   ]
  },
  {
   "cell_type": "code",
   "execution_count": 32,
   "id": "mexican-laser",
   "metadata": {},
   "outputs": [
    {
     "name": "stdout",
     "output_type": "stream",
     "text": [
      "The first True value is at position 3.\n",
      "The highest number is at position 0.\n"
     ]
    }
   ],
   "source": [
    "# With booleans\n",
    "a = np.array([False,False,False,True,True])\n",
    "print(f'The first True value is at position {np.argmax(a)}.' )\n",
    "\n",
    "# With numbers\n",
    "b = np.array([5,4,2,3])\n",
    "print(f'The highest number is at position {np.argmax(b)}.' )"
   ]
  },
  {
   "cell_type": "code",
   "execution_count": 33,
   "id": "expressed-dressing",
   "metadata": {},
   "outputs": [
    {
     "data": {
      "image/png": "[encoded data removed]",
      "text/plain": [
       "<Figure size 576x432 with 1 Axes>"
      ]
     },
     "metadata": {
      "needs_background": "light"
     },
     "output_type": "display_data"
    }
   ],
   "source": [
    "# We can also plot precision vs recall\n",
    "def plot_precision_vs_recall(precisions,recalls):\n",
    "    plt.plot(recalls,precisions,'b-',linewidth = 2)\n",
    "    plt.xlabel('Recall', fontsize = 16)\n",
    "    plt.ylabel('Precision', fontsize = 16)\n",
    "    plt.axis([0,1,0,1])\n",
    "    plt.grid()\n",
    "\n",
    "plt.figure(figsize = (8,6))\n",
    "plot_precision_vs_recall(precisions,recalls)\n",
    "\n",
    "plt.plot([recall_90_precision, recall_90_precision],[0,0.9],'r:')\n",
    "plt.plot([0,recall_90_precision],[0.9,0.9],'r:')\n",
    "plt.plot([recall_90_precision],[.9],'ro')\n",
    "plt.show()"
   ]
  },
  {
   "cell_type": "code",
   "execution_count": 34,
   "id": "comic-eclipse",
   "metadata": {},
   "outputs": [
    {
     "data": {
      "text/plain": [
       "array([False, False, False, ...,  True, False, False])"
      ]
     },
     "execution_count": 34,
     "metadata": {},
     "output_type": "execute_result"
    }
   ],
   "source": [
    "# to make predictions following a certain threshold\n",
    "y_train_pred_90 = (y_scores >= threshold_90_precision)\n",
    "y_train_pred_90"
   ]
  },
  {
   "cell_type": "code",
   "execution_count": 35,
   "id": "fec4c2a9",
   "metadata": {},
   "outputs": [
    {
     "data": {
      "text/plain": [
       "0.9000345901072293"
      ]
     },
     "execution_count": 35,
     "metadata": {},
     "output_type": "execute_result"
    }
   ],
   "source": [
    "# Let's check the precision and recall of these predictions\n",
    "precision_score(y_train_5,y_train_pred_90)"
   ]
  },
  {
   "cell_type": "code",
   "execution_count": 36,
   "id": "9fc5c729",
   "metadata": {},
   "outputs": [
    {
     "data": {
      "text/plain": [
       "0.4799852425751706"
      ]
     },
     "execution_count": 36,
     "metadata": {},
     "output_type": "execute_result"
    }
   ],
   "source": [
    "recall_score(y_train_5,y_train_pred_90)"
   ]
  },
  {
   "cell_type": "markdown",
   "id": "5ede5b39",
   "metadata": {},
   "source": [
    "Now we have a high precision classifier ! It is pretty easy to obtain a classifier with virtually any precision we want: we just set a high enough threshold and we're done !  \n",
    "<br/>\n",
    "However, a high precision classifier is not very useful if its recall is too low.  \n",
    "<br/>\n",
    "If someone says, \"Let's reach a 99% precision\", you should ask: \"At what recall?\"."
   ]
  },
  {
   "cell_type": "markdown",
   "id": "73dbaaba",
   "metadata": {},
   "source": [
    "### The ROC Curve"
   ]
  },
  {
   "cell_type": "markdown",
   "id": "2c23d36d",
   "metadata": {},
   "source": [
    "The *receiver operating characteristic* (ROC) curve is another common tool used with binary classifiers. It is very similar to the precision/recall curve, but instead of plotting precision versus recall, the ROC curve plots the *true positive rate* (another name for recall) against the *false positive rate* (FPR). The FPR is the ratio of negative instances that are incorrectly classified as positive. It is equal to 1 minus the *true negative rate* (TNR), which is the ratio of negative instances that are correctly classified as negative. The TNR is also called *specificity*. Hence, the ROC curve plots *sensitivity* (recall) versus 1 minus *specificity*."
   ]
  },
  {
   "cell_type": "code",
   "execution_count": 37,
   "id": "226bd627",
   "metadata": {},
   "outputs": [],
   "source": [
    "# To plot the ROC curve\n",
    "from sklearn.metrics import roc_curve\n",
    "fpr,tpr,thresholds = roc_curve(y_train_5,y_scores) # compute the true positive rate and false positive rate"
   ]
  },
  {
   "cell_type": "code",
   "execution_count": 38,
   "id": "f5753b4a",
   "metadata": {},
   "outputs": [
    {
     "data": {
      "image/png": "[encoded data removed]",
      "text/plain": [
       "<Figure size 576x360 with 1 Axes>"
      ]
     },
     "metadata": {
      "needs_background": "light"
     },
     "output_type": "display_data"
    }
   ],
   "source": [
    "# Now we can plot the FPR against the TPR\n",
    "def plot_roc_curve(fpr,tpr,label= None):\n",
    "    plt.plot(fpr,tpr,label = label)\n",
    "    plt.plot([0,1],[0,1],'k--') # Dashed diagonal\n",
    "    plt.xlabel('False Positive Rate(Fall outs)', fontsize = 16)\n",
    "    plt.ylabel('True Positive Rate (Recall)', fontsize = 16)\n",
    "    plt.axis([0,1,0,1])\n",
    "    plt.grid()\n",
    "\n",
    "# We can plot the TPR/FPR point for .9 precision (like before)\n",
    "\n",
    "fpr_90 = fpr[np.argmax(tpr >= recall_90_precision)]\n",
    "\n",
    "plt.figure(figsize=(8,5))\n",
    "plot_roc_curve(fpr,tpr)\n",
    "plt.plot([0,fpr_90],[0,recall_90_precision],'r:')\n",
    "plt.plot([fpr_90],[recall_90_precision],'ro')\n",
    "\n",
    "plt.show()"
   ]
  },
  {
   "cell_type": "markdown",
   "id": "d16f504b",
   "metadata": {},
   "source": [
    "One way to compare classifiers is to measure the *area under the curve* (AUC). A perfect classifier will have a ROC AUC equal to 1, whereas a purely random classifier will have a ROC AUC equal to 0.5."
   ]
  },
  {
   "cell_type": "code",
   "execution_count": 39,
   "id": "fd667a0f",
   "metadata": {},
   "outputs": [
    {
     "data": {
      "text/plain": [
       "0.9604938554008616"
      ]
     },
     "execution_count": 39,
     "metadata": {},
     "output_type": "execute_result"
    }
   ],
   "source": [
    "from sklearn.metrics import roc_auc_score\n",
    "roc_auc_score(y_train_5,y_scores)"
   ]
  },
  {
   "cell_type": "markdown",
   "id": "7a457d61",
   "metadata": {},
   "source": [
    "As a rule of thumb you should prefer the Precision Recall curve whenever the positive class is rare or when you care more about the false positives than the false negatives. Otherwise use the ROC curve."
   ]
  },
  {
   "cell_type": "markdown",
   "id": "7eab6f8b",
   "metadata": {},
   "source": [
    "Remember that here we have few 5's and a lot of non-5's therefore the AUC is very high, but this is only because there isn't a lot of 5's. In that case the precision recall curve is more adapted and it shows us that there is room for improvement for our model."
   ]
  },
  {
   "cell_type": "markdown",
   "id": "356e1c7d",
   "metadata": {},
   "source": [
    "### Random Forest Classifier"
   ]
  },
  {
   "cell_type": "markdown",
   "id": "b02f729a",
   "metadata": {},
   "source": [
    "We will now train a random forest classifier and compare its ROC curve and ROC AUC score to those of the SGDClassifier. We were used to utilize the `decision_function()` method. But RandomForestClassifier does not have this method. Instead, we will use `predict_proba()` method. Sklearn's classifiers generally have one or both of these methods. The `predict_proba()` method rerturns an array contatining a row per instance and a column per class, each containing the probability that the given instance belongs to that class.."
   ]
  },
  {
   "cell_type": "code",
   "execution_count": 40,
   "id": "00690962",
   "metadata": {},
   "outputs": [],
   "source": [
    "from sklearn.ensemble import RandomForestClassifier\n",
    "\n",
    "forest_clf = RandomForestClassifier(random_state = 42)\n",
    "y_probas_forest = cross_val_predict(forest_clf, X_train, y_train_5, cv = 3, method = 'predict_proba')"
   ]
  },
  {
   "cell_type": "markdown",
   "id": "be89a85a",
   "metadata": {},
   "source": [
    "The `roc_curve` function expects labels and scores, but instead of scores we can give it class probabilities. Let's use the positive class's probability as the score."
   ]
  },
  {
   "cell_type": "code",
   "execution_count": 41,
   "id": "f2db255d",
   "metadata": {},
   "outputs": [],
   "source": [
    "y_scores_forest = y_probas_forest[:,1] #score = proba of positive class\n",
    "fpr_forest, tpr_forest, thresholds_forest = roc_curve(y_train_5, y_scores_forest)"
   ]
  },
  {
   "cell_type": "code",
   "execution_count": 42,
   "id": "df44a615",
   "metadata": {},
   "outputs": [
    {
     "data": {
      "image/png": "[encoded data removed]",
      "text/plain": [
       "<Figure size 576x432 with 1 Axes>"
      ]
     },
     "metadata": {
      "needs_background": "light"
     },
     "output_type": "display_data"
    }
   ],
   "source": [
    "# Plot\n",
    "recall_for_forest = tpr_forest[np.argmax(fpr_forest >= fpr_90)]\n",
    "\n",
    "plt.figure(figsize=(8, 6))\n",
    "plt.plot(fpr, tpr, \"b:\", linewidth=2, label=\"SGD\")\n",
    "plot_roc_curve(fpr_forest, tpr_forest, \"Random Forest\")\n",
    "plt.plot([fpr_90, fpr_90], [0., recall_90_precision], \"r:\")\n",
    "plt.plot([0.0, fpr_90], [recall_90_precision, recall_90_precision], \"r:\")\n",
    "plt.plot([fpr_90], [recall_90_precision], \"ro\")\n",
    "plt.plot([fpr_90, fpr_90], [0., recall_for_forest], \"r:\")\n",
    "plt.plot([fpr_90], [recall_for_forest], \"ro\")\n",
    "plt.grid(True)\n",
    "plt.legend(loc=\"lower right\", fontsize=16)\n",
    "plt.show()"
   ]
  },
  {
   "cell_type": "markdown",
   "id": "0db940d8",
   "metadata": {},
   "source": [
    "Comparing ROC curves: the Random Forest Classifier is superior to the SGD classifier because its ROC curve is much closer to the top-left corner and it has a greater AUC."
   ]
  },
  {
   "cell_type": "code",
   "execution_count": 43,
   "id": "de5dac9c",
   "metadata": {},
   "outputs": [
    {
     "data": {
      "text/plain": [
       "0.9983436731328145"
      ]
     },
     "execution_count": 43,
     "metadata": {},
     "output_type": "execute_result"
    }
   ],
   "source": [
    "roc_auc_score(y_train_5,y_scores_forest)"
   ]
  },
  {
   "cell_type": "markdown",
   "id": "8a7fd32f",
   "metadata": {},
   "source": [
    "CONGRATULATIONS !! Now you know how to train and evaluate binary classification models. Let's try to detect more than just the 5's. "
   ]
  },
  {
   "cell_type": "markdown",
   "id": "70e4cf22",
   "metadata": {},
   "source": [
    "## 4- Multiclass Classification"
   ]
  },
  {
   "cell_type": "markdown",
   "id": "israeli-digest",
   "metadata": {},
   "source": [
    "Multiclass classifiers can distinguish between more than two classes.  \n",
    "<br/>\n",
    "**Multiclass algortithms:** Logistic Regression, Random Forest, Naive Bayes...  \n",
    "**Binary algorithms:** Stochastic Gradient Descent, Support Vector Machine classifiers..."
   ]
  },
  {
   "cell_type": "markdown",
   "id": "streaming-asthma",
   "metadata": {},
   "source": [
    "### OvR strategy"
   ]
  },
  {
   "cell_type": "markdown",
   "id": "injured-bulletin",
   "metadata": {},
   "source": [
    "One way to create a system that can calssify the digit images into 10 classes for example (0 to 9), is *to train 10 binary classifiers, one for each digit.* Then when we want to classify an image, we get the decision score from each classifier for that image and we select the class whose classifier outputs the highest score. This is the **one versus the rest (OvR)** strategy. (also called **one versus all**)."
   ]
  },
  {
   "cell_type": "markdown",
   "id": "mediterranean-selling",
   "metadata": {},
   "source": [
    "### OvO strategy"
   ]
  },
  {
   "cell_type": "markdown",
   "id": "blind-choice",
   "metadata": {},
   "source": [
    "Another strategy is *to train a binary classifier for every pair of digits: one to distinguish 0s and 1s, another to distinguish 0s and 2s, another for 1s and 2s and so on.* If there are N classes, you need to train $\\frac{N x (N-1)}{2}$ classifiers.  \n",
    "<br/>\n",
    "For the MNIST problem, this means training 45 binary classifiers! When we want to classify an image we will need to run the image through all the 45 classifiers and see which class wins the most duels. The main advantage of OvO is that each classifier only needs to be trained on the part of the training set for the two classes that it must distinguish. (i.e for 0s and 1s, the algorithm will be trained only on the 0s and 1s of the dataset.)"
   ]
  },
  {
   "cell_type": "markdown",
   "id": "suspended-checkout",
   "metadata": {},
   "source": [
    "### In sum"
   ]
  },
  {
   "cell_type": "markdown",
   "id": "homeless-marketing",
   "metadata": {},
   "source": [
    "Some algorithms (such as SVM) scale poorly with the size of the training set. For these algorithms OvO is preferred because it is faster to train many classifiers on small training sets than to train few classifiers on large training sets. However for most binary classifiers, OvR is preferred."
   ]
  },
  {
   "cell_type": "markdown",
   "id": "revised-genome",
   "metadata": {},
   "source": [
    "### Scikit-Learn"
   ]
  },
  {
   "cell_type": "markdown",
   "id": "signed-syndrome",
   "metadata": {},
   "source": [
    "SKlearn detects when you try to use binary classification algorithms for multiclass classification tasks. It automatically runs OvR or OvO depending on the algorithm. Let's try with a **Support Vector Machine Classifier**, `SVC`."
   ]
  },
  {
   "cell_type": "code",
   "execution_count": 44,
   "id": "controlling-music",
   "metadata": {},
   "outputs": [
    {
     "data": {
      "text/plain": [
       "array([5], dtype=uint8)"
      ]
     },
     "execution_count": 44,
     "metadata": {},
     "output_type": "execute_result"
    }
   ],
   "source": [
    "from sklearn.svm import SVC\n",
    "svm_clf = SVC()\n",
    "svm_clf.fit(X_train,y_train) # not y_train_5\n",
    "svm_clf.predict([some_digit]) # It predicted 5 which is correct"
   ]
  },
  {
   "cell_type": "markdown",
   "id": "enhanced-presence",
   "metadata": {},
   "source": [
    "The previous code trains the SVC on the training set using the original target classes from 0 to 9 (y_train) instead of the 5-versus-the-rest target classes (y_train_5). Then it makes a prediction. Under the hood, SKlearn actually used the OvO strategy: it trained 45 binary classifiers, got their decision scores for the image, and selected the class that won the most duels. It trained 45 binary classifiers, got their decision scores for the image, and selected the class that won the most duels."
   ]
  },
  {
   "cell_type": "markdown",
   "id": "equivalent-secretariat",
   "metadata": {},
   "source": [
    "We can call the `decision_function()` method that will return 10 scores per instance. That's one score (approx the number of won duels plus or a minus a small tweak) per class."
   ]
  },
  {
   "cell_type": "code",
   "execution_count": 46,
   "id": "developing-defendant",
   "metadata": {},
   "outputs": [
    {
     "data": {
      "text/plain": [
       "array([[ 1.72501977,  2.72809088,  7.2510018 ,  8.3076379 , -0.31087254,\n",
       "         9.3132482 ,  1.70975103,  2.76765202,  6.23049537,  4.84771048]])"
      ]
     },
     "execution_count": 46,
     "metadata": {},
     "output_type": "execute_result"
    }
   ],
   "source": [
    "some_digit_scores = svm_clf.decision_function([some_digit])\n",
    "some_digit_scores"
   ]
  },
  {
   "cell_type": "code",
   "execution_count": 48,
   "id": "steady-liberty",
   "metadata": {},
   "outputs": [
    {
     "data": {
      "text/plain": [
       "5"
      ]
     },
     "execution_count": 48,
     "metadata": {},
     "output_type": "execute_result"
    }
   ],
   "source": [
    "np.argmax(some_digit_scores)"
   ]
  },
  {
   "cell_type": "code",
   "execution_count": 52,
   "id": "verified-character",
   "metadata": {},
   "outputs": [
    {
     "data": {
      "text/plain": [
       "5"
      ]
     },
     "execution_count": 52,
     "metadata": {},
     "output_type": "execute_result"
    }
   ],
   "source": [
    "svm_clf.classes_[5]\n",
    "# It is indeed number 5 !"
   ]
  },
  {
   "cell_type": "markdown",
   "id": "sporting-mason",
   "metadata": {},
   "source": [
    "We can force Sklearn to use OvO or OvR by using `OneVsOneClassifier` or `OneVsRestClassifier`. For example if we want to use SVC:"
   ]
  },
  {
   "cell_type": "code",
   "execution_count": 53,
   "id": "angry-personal",
   "metadata": {},
   "outputs": [
    {
     "data": {
      "text/plain": [
       "array([5], dtype=uint8)"
      ]
     },
     "execution_count": 53,
     "metadata": {},
     "output_type": "execute_result"
    }
   ],
   "source": [
    "from sklearn.multiclass import OneVsRestClassifier\n",
    "ovr_clf = OneVsRestClassifier(SVC())\n",
    "ovr_clf.fit(X_train,y_train)\n",
    "ovr_clf.predict([some_digit])\n"
   ]
  },
  {
   "cell_type": "markdown",
   "id": "separated-pension",
   "metadata": {},
   "source": [
    "Training an SGD multiclass classifier:"
   ]
  },
  {
   "cell_type": "code",
   "execution_count": 54,
   "id": "rotary-immunology",
   "metadata": {},
   "outputs": [
    {
     "data": {
      "text/plain": [
       "array([3], dtype=uint8)"
      ]
     },
     "execution_count": 54,
     "metadata": {},
     "output_type": "execute_result"
    }
   ],
   "source": [
    "sgd_clf.fit(X_train,y_train)\n",
    "sgd_clf.predict([some_digit])"
   ]
  },
  {
   "cell_type": "markdown",
   "id": "removable-fever",
   "metadata": {},
   "source": [
    "This time, Sklearn used and OvR strategy under the hood: since there are 10 classes, it trained 10 binary classifiers. The `decision_function()` method now returns one value per class. Let's look at the score that the SGD classifier assigned to each class:"
   ]
  },
  {
   "cell_type": "code",
   "execution_count": 55,
   "id": "comic-wound",
   "metadata": {},
   "outputs": [
    {
     "data": {
      "text/plain": [
       "array([[-31893.03095419, -34419.69069632,  -9530.63950739,\n",
       "          1823.73154031, -22320.14822878,  -1385.80478895,\n",
       "        -26188.91070951, -16147.51323997,  -4604.35491274,\n",
       "        -12050.767298  ]])"
      ]
     },
     "execution_count": 55,
     "metadata": {},
     "output_type": "execute_result"
    }
   ],
   "source": [
    "sgd_clf.decision_functionontionon_function([some_digit])"
   ]
  },
  {
   "cell_type": "markdown",
   "id": "mental-berry",
   "metadata": {},
   "source": [
    "You can see that the SGD classifier is pretty confident about its prediction: almost all score are largely negative, while class 5 has a score of 2412.5. The model a slight doubt regarding class 3 which gets a score of 573.5. "
   ]
  },
  {
   "cell_type": "markdown",
   "id": "initial-final",
   "metadata": {},
   "source": [
    "### Classifier evaluation"
   ]
  },
  {
   "cell_type": "markdown",
   "id": "permanent-attitude",
   "metadata": {},
   "source": [
    "Now we need to evaluate the classifier as we did before. We will start by looking at the accuracy of the classifier."
   ]
  },
  {
   "cell_type": "code",
   "execution_count": 56,
   "id": "committed-friendly",
   "metadata": {},
   "outputs": [
    {
     "data": {
      "text/plain": [
       "array([0.87365, 0.85835, 0.8689 ])"
      ]
     },
     "execution_count": 56,
     "metadata": {},
     "output_type": "execute_result"
    }
   ],
   "source": [
    "cross_val_score(sgd_clf, X_train, y_train, cv = 3, scoring = 'accuracy')"
   ]
  },
  {
   "cell_type": "markdown",
   "id": "located-sleeping",
   "metadata": {},
   "source": [
    "It gets over 84% on all test folds. If you used in this case a random classifier you would get 10% accuracy, so this score is pretty good. But we can still do much better. Simply scaling the inputs increases accuracy above 89%:"
   ]
  },
  {
   "cell_type": "code",
   "execution_count": 57,
   "id": "danish-estonia",
   "metadata": {},
   "outputs": [
    {
     "data": {
      "text/plain": [
       "array([0.8983, 0.891 , 0.9018])"
      ]
     },
     "execution_count": 57,
     "metadata": {},
     "output_type": "execute_result"
    }
   ],
   "source": [
    "from sklearn.preprocessing import StandardScaler\n",
    "scaler = StandardScalerardScaler()\n",
    "X_train_scaled = scaler.fit_transform(X_train.astype(np.float64))\n",
    "cross_val_score(sgd_clf, X_train_scaled, y_train, cv = 3, scoring = 'accuracy')"
   ]
  },
  {
   "cell_type": "markdown",
   "id": "personalized-influence",
   "metadata": {},
   "source": [
    "### Error Analysis"
   ]
  },
  {
   "cell_type": "markdown",
   "id": "italic-unknown",
   "metadata": {},
   "source": [
    "Usually in machine learning projects, we would try multiple models and chose the ones that look promising, tweak their hyperparameters with `GridSearchCV` and automate as much as possible. Let's assume that we have found a promising model and we want to find ways to improve it. One way to do this is to analyze types of errors it makes. "
   ]
  },
  {
   "cell_type": "markdown",
   "id": "equivalent-christopher",
   "metadata": {},
   "source": [
    "First look at the confusion matrix. You need to make prediction using `cross_val_predict()` and then call the function `confusion_matrix`."
   ]
  },
  {
   "cell_type": "code",
   "execution_count": 59,
   "id": "green-alpha",
   "metadata": {},
   "outputs": [
    {
     "data": {
      "text/plain": [
       "array([[5577,    0,   22,    5,    8,   43,   36,    6,  225,    1],\n",
       "       [   0, 6400,   37,   24,    4,   44,    4,    7,  212,   10],\n",
       "       [  27,   27, 5220,   92,   73,   27,   67,   36,  378,   11],\n",
       "       [  22,   17,  117, 5227,    2,  203,   27,   40,  403,   73],\n",
       "       [  12,   14,   41,    9, 5182,   12,   34,   27,  347,  164],\n",
       "       [  27,   15,   30,  168,   53, 4444,   75,   14,  535,   60],\n",
       "       [  30,   15,   42,    3,   44,   97, 5552,    3,  131,    1],\n",
       "       [  21,   10,   51,   30,   49,   12,    3, 5684,  195,  210],\n",
       "       [  17,   63,   48,   86,    3,  126,   25,   10, 5429,   44],\n",
       "       [  25,   18,   30,   64,  118,   36,    1,  179,  371, 5107]],\n",
       "      dtype=int64)"
      ]
     },
     "execution_count": 59,
     "metadata": {},
     "output_type": "execute_result"
    }
   ],
   "source": [
    "y_train_pred = cross_val_predict(sgd_clf, X_train_scaled, y_train, cv = 3)\n",
    "conf_mx = confusion_matrix(y_train,y_train_pred)\n",
    "conf_mx"
   ]
  },
  {
   "cell_type": "code",
   "execution_count": 60,
   "id": "polish-cocktail",
   "metadata": {},
   "outputs": [
    {
     "data": {
      "image/png": "[encoded data removed]",
      "text/plain": [
       "<Figure size 288x288 with 1 Axes>"
      ]
     },
     "metadata": {
      "needs_background": "light"
     },
     "output_type": "display_data"
    }
   ],
   "source": [
    "# as you can see there is a lot of numbers, it is often useful to look and an image representation of the confusion matrix\n",
    "# using Matplotlib's matshow()\n",
    "\n",
    "plt.matshow(conf_mx, cmap = plt.cm.gray)\n",
    "plt.show()"
   ]
  },
  {
   "cell_type": "markdown",
   "id": "greater-function",
   "metadata": {},
   "source": [
    "The more white-ish colour means a lot of instances were classified here. Ideally we want the main diagonal to be white and the rest black (Very dark). The confusion matrix here looks quite good. The 5s look slightly darkers than the other digits which could mean that there are fewer images of 5s in the dataset or tha the classifier does not perform as weel on 5s as on other digits. In fact, we can verify that both are the case."
   ]
  },
  {
   "cell_type": "markdown",
   "id": "standing-calibration",
   "metadata": {},
   "source": [
    "Now let's focus on the errors. First we need to divide each value in the confusion matrix by the number of images in the corresponding class so that you can compare error rates instead of absolute numbers of error."
   ]
  },
  {
   "cell_type": "code",
   "execution_count": 61,
   "id": "cultural-constitution",
   "metadata": {},
   "outputs": [],
   "source": [
    "row_sums = conf_mx.sum(axis = 1, keepdims = True)\n",
    "norm_conf_mx = conf_mx / row_sums"
   ]
  },
  {
   "cell_type": "markdown",
   "id": "naked-vacuum",
   "metadata": {},
   "source": [
    "Fill the diagonal with zeros to keep only the errors and plot the result:"
   ]
  },
  {
   "cell_type": "code",
   "execution_count": 62,
   "id": "informative-amsterdam",
   "metadata": {},
   "outputs": [
    {
     "data": {
      "text/plain": [
       "<matplotlib.image.AxesImage at 0x1c28bc263a0>"
      ]
     },
     "execution_count": 62,
     "metadata": {},
     "output_type": "execute_result"
    },
    {
     "data": {
      "image/png": "[encoded data removed]",
      "text/plain": [
       "<Figure size 288x288 with 1 Axes>"
      ]
     },
     "metadata": {
      "needs_background": "light"
     },
     "output_type": "display_data"
    }
   ],
   "source": [
    "np.fill_diagonal(norm_conf_mx, 0)\n",
    "plt.matshow(norm_conf_mx, cmap = plt.cm.gray)"
   ]
  },
  {
   "cell_type": "markdown",
   "id": "innovative-leather",
   "metadata": {},
   "source": [
    "Now we can clearly see the kinds of errors the classifier makes. **NB:** Rows represent actual classes and column predicted classes."
   ]
  },
  {
   "cell_type": "markdown",
   "id": "diverse-position",
   "metadata": {},
   "source": [
    "We can see that the column for class 8 is quite bright which tells us that many images where misclassified as 8s. However, the row for class 8 is not that bad telling us that actual 8s get properly classified."
   ]
  },
  {
   "cell_type": "markdown",
   "id": "funny-fireplace",
   "metadata": {},
   "source": [
    "Looking at this matrix it seems that our efforts should be spent on reducing the false 8s. For example we can gather more data for digits that look like 8s but are not so that the classifier can learn to distinguish them from real 8s. Or we can engineer new features that would help the classifier for example writing an algorithm to count the number of closed loops (8 has 2, 6 has 1, 5 have none..). Or you could preprocess the images to make some patterns such as closed loops stand out more."
   ]
  },
  {
   "cell_type": "markdown",
   "id": "female-mustang",
   "metadata": {},
   "source": [
    "## 5 - Conclusion"
   ]
  },
  {
   "cell_type": "markdown",
   "id": "expired-precipitation",
   "metadata": {},
   "source": [
    "Other classification tasks exist. **Multilabel Classification** is assigning multiple classes to one instance. This is used in facial recognition algorithms for example. You input an image with many faces on it and the algorithm tells who are the people in the image."
   ]
  },
  {
   "cell_type": "markdown",
   "id": "civilian-boxing",
   "metadata": {},
   "source": [
    "Another task is **Multioutput Classification** and is a generalization of the multilabel calssification where each label can be a multiclass. We won't talk about these two tasks in this project."
   ]
  },
  {
   "cell_type": "code",
   "execution_count": null,
   "id": "dressed-salvation",
   "metadata": {},
   "outputs": [],
   "source": []
  }
 ],
 "metadata": {
  "kernelspec": {
   "display_name": "Python 3",
   "language": "python",
   "name": "python3"
  },
  "language_info": {
   "codemirror_mode": {
    "name": "ipython",
    "version": 3
   },
   "file_extension": ".py",
   "mimetype": "text/x-python",
   "name": "python",
   "nbconvert_exporter": "python",
   "pygments_lexer": "ipython3",
   "version": "3.8.8"
  }
 },
 "nbformat": 4,
 "nbformat_minor": 5
}
